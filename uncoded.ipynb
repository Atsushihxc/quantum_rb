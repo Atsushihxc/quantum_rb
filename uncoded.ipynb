{
 "cells": [
  {
   "cell_type": "code",
   "execution_count": null,
   "metadata": {},
   "outputs": [],
   "source": [
    "from qiskit import QuantumCircuit, ClassicalRegister, QuantumRegister, QISKitError\n",
    "from qiskit import available_backends, register, execute, get_backend\n",
    "\n",
    "\n",
    "def buildCirc(qc, circuitArray, perm):\n",
    "    for gate in circuitArray:\n",
    "        addGate(qc, gate, perm)\n",
    "\n",
    "def addGate(qc, gate, perm):\n",
    "    genKeys = [\"x\", \"z\", \"h\", \"s\", \"cx\", \"cz\"]\n",
    "    gateSet = {\n",
    "        0: addX\n",
    "        1: addZ\n",
    "        2: addH\n",
    "        3: addS\n",
    "        4: addCX\n",
    "        5: addCZ\n",
    "    }\n",
    "    gateSpec = gate.split()\n",
    "    gateIndex = genKeys.index(gateSpec[0])\n",
    "    addGen = gateSet.get(gateIndex, lambda: \"OOPS NO SUCH GATE\")\n",
    "    addGen(qc,gateSpec[1:],perm)\n",
    "        \n",
    "        \n",
    "def addX(qc,gateNums,perm):\n",
    "    for num in gateNums:\n",
    "        qc.x(perm[int(num)])\n",
    "        \n",
    "def addZ(qc,gateNums,perm):\n",
    "    for num in gateNums:\n",
    "        qc.z(perm[int(num)])\n",
    "\n",
    "def addH(qc,gateNums,perm):\n",
    "    for num in gateNums:\n",
    "        qc.h(perm[int(num)])\n",
    "        \n",
    "def addS(qc,gateNums,perm):\n",
    "    for num in gateNums:\n",
    "        qc.s(perm[int(num)])\n",
    "        \n",
    "def addCX(qc,gateNums,perm):\n",
    "    qc.cx(perm[int(gateNums[0])], perm[int(gateNums[1])])\n",
    "    \n",
    "def addCZ(qc,gateNums,perm):\n",
    "    qc.cz(perm[int(gateNums[0])], perm[int(gateNums[1])])"
   ]
  }
 ],
 "metadata": {
  "kernelspec": {
   "display_name": "Python 3",
   "language": "python",
   "name": "python3"
  },
  "language_info": {
   "codemirror_mode": {
    "name": "ipython",
    "version": 3
   },
   "file_extension": ".py",
   "mimetype": "text/x-python",
   "name": "python",
   "nbconvert_exporter": "python",
   "pygments_lexer": "ipython3",
   "version": "3.6.5"
  }
 },
 "nbformat": 4,
 "nbformat_minor": 2
}
